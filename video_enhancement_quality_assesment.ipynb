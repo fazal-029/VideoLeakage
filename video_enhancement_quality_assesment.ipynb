{
 "cells": [
  {
   "cell_type": "code",
   "execution_count": 1,
   "id": "5fdfb7f3-40d2-49e7-b11d-afaa1dfeabc6",
   "metadata": {},
   "outputs": [],
   "source": [
    "# !ffmpeg -i input_video.mp4 frames/frame_%04d.png"
   ]
  },
  {
   "cell_type": "code",
   "execution_count": 2,
   "id": "d8bee8db-2f0e-4e13-8212-afe30c47abcc",
   "metadata": {},
   "outputs": [],
   "source": [
    "# !ffmpeg -i output_video_fourth.mp4 frames_fourth/frame_%04d.png"
   ]
  },
  {
   "cell_type": "code",
   "execution_count": 3,
   "id": "26f78ed9-ceac-4946-adc5-c5a8e6927be2",
   "metadata": {},
   "outputs": [],
   "source": [
    "import cv2\n",
    "import os\n",
    "import numpy as np\n",
    "from skimage.metrics import structural_similarity as ssim"
   ]
  },
  {
   "cell_type": "code",
   "execution_count": 4,
   "id": "3d4df9f8-b4de-4de6-a97c-f6f206a75295",
   "metadata": {},
   "outputs": [],
   "source": [
    "def calculate_psnr_ssim_for_videos(reference_video, test_video, resize_to=None):\n",
    "    cap_ref = cv2.VideoCapture(reference_video)\n",
    "    cap_test = cv2.VideoCapture(test_video)\n",
    "\n",
    "    psnr_values = []\n",
    "    ssim_values = []\n",
    "    \n",
    "    while cap_ref.isOpened() and cap_test.isOpened():\n",
    "        ret_ref, frame_ref = cap_ref.read()\n",
    "        ret_test, frame_test = cap_test.read()\n",
    "\n",
    "        if not ret_ref or not ret_test:\n",
    "            break  \n",
    "\n",
    "        if resize_to:\n",
    "            frame_ref = cv2.resize(frame_ref, resize_to, interpolation=cv2.INTER_CUBIC)\n",
    "            frame_test = cv2.resize(frame_test, resize_to, interpolation=cv2.INTER_CUBIC)\n",
    "\n",
    "        frame_ref_gray = cv2.cvtColor(frame_ref, cv2.COLOR_BGR2GRAY)\n",
    "        frame_test_gray = cv2.cvtColor(frame_test, cv2.COLOR_BGR2GRAY)\n",
    "\n",
    "        # Compute PSNR\n",
    "        mse = np.mean((frame_ref - frame_test) ** 2)\n",
    "        if mse == 0:\n",
    "            psnr = 100  \n",
    "        else:\n",
    "            psnr = 10 * np.log10(255**2 / mse)\n",
    "        psnr_values.append(psnr)\n",
    "\n",
    "        ssim_score = ssim(frame_ref_gray, frame_test_gray, data_range=255)\n",
    "        ssim_values.append(ssim_score)\n",
    "\n",
    "    cap_ref.release()\n",
    "    cap_test.release()\n",
    "\n",
    "    avg_psnr = np.mean(psnr_values) if psnr_values else None\n",
    "    avg_ssim = np.mean(ssim_values) if ssim_values else None\n",
    "\n",
    "    return avg_psnr, avg_ssim\n"
   ]
  },
  {
   "cell_type": "markdown",
   "id": "2c73793b-4604-4adc-a37c-6b6b66240a4a",
   "metadata": {},
   "source": [
    "# Quality of frames extracted by DLG"
   ]
  },
  {
   "cell_type": "code",
   "execution_count": 5,
   "id": "c249c7c7-754b-4453-89ac-ec74fa15f696",
   "metadata": {},
   "outputs": [],
   "source": [
    "def calculate_psnr(img1, img2):\n",
    "    mse = np.mean((img1 - img2) ** 2)\n",
    "    if mse == 0:\n",
    "        return float('inf')  # Perfect match\n",
    "    max_pixel = 255.0\n",
    "    psnr = 20 * np.log10(max_pixel / np.sqrt(mse))\n",
    "    return psnr\n",
    "\n",
    "def calculate_ssim(img1, img2):\n",
    "    img1_gray = cv2.cvtColor(img1, cv2.COLOR_BGR2GRAY)\n",
    "    img2_gray = cv2.cvtColor(img2, cv2.COLOR_BGR2GRAY)\n",
    "    ssim_value = ssim(img1_gray, img2_gray, data_range=img1_gray.max() - img1_gray.min())\n",
    "    return ssim_value\n",
    "\n",
    "def calculate_metrics_for_folders(raw_folder, recon_folder):\n",
    "    raw_images = sorted(os.listdir(raw_folder))  # Ensure order consistency\n",
    "    recon_images = sorted(os.listdir(recon_folder))\n",
    "\n",
    "    assert len(raw_images) == len(recon_images), \n",
    "\n",
    "    psnr_values = []\n",
    "    ssim_values = []\n",
    "    \n",
    "    for raw_name, recon_name in zip(raw_images, recon_images):\n",
    "        raw_path = os.path.join(raw_folder, raw_name)\n",
    "        recon_path = os.path.join(recon_folder, recon_name)\n",
    "\n",
    "        \n",
    "        raw_img = cv2.imread(raw_path, cv2.IMREAD_COLOR)\n",
    "        recon_img = cv2.imread(recon_path, cv2.IMREAD_COLOR)\n",
    "\n",
    "        if raw_img is None or recon_img is None:\n",
    "            print(f\"Skipping {raw_name} or {recon_name}, as one of them is missing!\")\n",
    "            continue\n",
    "\n",
    "        \n",
    "        psnr_values.append(calculate_psnr(raw_img, recon_img))\n",
    "\n",
    "        \n",
    "        ssim_values.append(calculate_ssim(raw_img, recon_img))\n",
    "\n",
    "    avg_psnr = sum(psnr_values) / len(psnr_values) if psnr_values else 0\n",
    "    avg_ssim = sum(ssim_values) / len(ssim_values) if ssim_values else 0\n",
    "\n",
    "    return avg_psnr, avg_ssim"
   ]
  },
  {
   "cell_type": "code",
   "execution_count": 6,
   "id": "35559ab9-7376-47a9-9776-69f436350cb9",
   "metadata": {},
   "outputs": [
    {
     "name": "stdout",
     "output_type": "stream",
     "text": [
      "Average PSNR: 28.41 dB\n",
      "Average SSIM: 0.7546\n"
     ]
    }
   ],
   "source": [
    "raw_folder = \"raw_frames_one_before_dlg\"\n",
    "recon_folder = \"frames\"\n",
    "average_psnr, average_ssim = calculate_metrics_for_folders(raw_folder, recon_folder)\n",
    "\n",
    "print(f\"Average PSNR: {average_psnr:.2f} dB\")\n",
    "print(f\"Average SSIM: {average_ssim:.4f}\")"
   ]
  },
  {
   "cell_type": "code",
   "execution_count": 7,
   "id": "f28ea909-30c0-4668-9e54-36060748632a",
   "metadata": {},
   "outputs": [
    {
     "name": "stdout",
     "output_type": "stream",
     "text": [
      "Average PSNR: 29.49 dB\n",
      "Average SSIM: 0.6478\n"
     ]
    }
   ],
   "source": [
    "raw_folder = \"raw_frames_two_before_dlg\"\n",
    "recon_folder = \"frames_second\"\n",
    "average_psnr, average_ssim = calculate_metrics_for_folders(raw_folder, recon_folder)\n",
    "\n",
    "print(f\"Average PSNR: {average_psnr:.2f} dB\")\n",
    "print(f\"Average SSIM: {average_ssim:.4f}\")"
   ]
  },
  {
   "cell_type": "code",
   "execution_count": 8,
   "id": "a09696c8-580b-4b40-a335-5bd245ba86b6",
   "metadata": {},
   "outputs": [
    {
     "name": "stdout",
     "output_type": "stream",
     "text": [
      "Average PSNR: 29.26 dB\n",
      "Average SSIM: 0.4892\n"
     ]
    }
   ],
   "source": [
    "raw_folder = \"raw_frames_four_before_dlg\"\n",
    "recon_folder = \"frames_fourth\"\n",
    "average_psnr, average_ssim = calculate_metrics_for_folders(raw_folder, recon_folder)\n",
    "\n",
    "print(f\"Average PSNR: {average_psnr:.2f} dB\")\n",
    "print(f\"Average SSIM: {average_ssim:.4f}\")"
   ]
  },
  {
   "cell_type": "code",
   "execution_count": 9,
   "id": "1d987f3e-52f2-4f6e-b9ca-319ebbbb6914",
   "metadata": {},
   "outputs": [],
   "source": [
    "def quality_assesment(high_quality_video, low_quality_video_after_dlg, enhanced_video_with_1_ref, \n",
    "                      enhanced_video_with_2_ref, enhanced_video_with_no_ref):\n",
    "    # calculation for method 1 --------------------------------------------------------\n",
    "    # Downscale high-quality video to 128x128 for a fair reference\n",
    "    psnr_ssim_high_quality_method1 = calculate_psnr_ssim_for_videos(high_quality_video, enhanced_video_with_1_ref, resize_to=(128, 128))\n",
    "    # Upscale low-quality video to 128x128 as a simple baseline\n",
    "    psnr_ssim_low_quality_method1 = calculate_psnr_ssim_for_videos(low_quality_video_after_dlg, enhanced_video_with_1_ref, resize_to=(128, 128))\n",
    "    \n",
    "    #calculation for method 2 --------------------------------------------------------\n",
    "    # Downscale high-quality video to 128x128 for a fair reference\n",
    "    psnr_ssim_high_quality_method2 = calculate_psnr_ssim_for_videos(high_quality_video, enhanced_video_with_2_ref, resize_to=(128, 128))\n",
    "    # Upscale low-quality video to 128x128 as a simple baseline\n",
    "    psnr_ssim_low_quality_method2 = calculate_psnr_ssim_for_videos(low_quality_video_after_dlg, enhanced_video_with_2_ref, resize_to=(128, 128))\n",
    "    \n",
    "    #calculation for method 3 --------------------------------------------------------\n",
    "    # Downscale high-quality video to 128x128 for a fair reference\n",
    "    psnr_ssim_high_quality_method3 = calculate_psnr_ssim_for_videos(high_quality_video, enhanced_video_with_no_ref, resize_to=(128, 128))\n",
    "    # Upscale low-quality video to 128x128 as a simple baseline\n",
    "    psnr_ssim_low_quality_method3 = calculate_psnr_ssim_for_videos(low_quality_video_after_dlg, enhanced_video_with_no_ref, resize_to=(128, 128))\n",
    "    \n",
    "    psnr_ssim_baseline = calculate_psnr_ssim_for_videos(high_quality_video, low_quality_video_after_dlg, resize_to=(128, 128))\n",
    "    \n",
    "    print(\"Results for using 1 reference\")\n",
    "    print(f\"PSNR, SSIM (Enhanced vs. High-Quality Reference): {psnr_ssim_high_quality_method1[0]:.2f} dB, {psnr_ssim_high_quality_method1[1]}\")\n",
    "    print(f\"PSNR, SSIM (Enhanced vs. Upscaled 32×32 Baseline): {psnr_ssim_low_quality_method1[0]:.2f} dB, {psnr_ssim_low_quality_method1[1]}\")\n",
    "    \n",
    "    print('-----------------------------------------')\n",
    "    \n",
    "    print(\"Results for using multiple references\")\n",
    "    print(f\"PSNR, SSIM (Enhanced vs. High-Quality Reference): {psnr_ssim_high_quality_method2[0]:.2f} dB, {psnr_ssim_high_quality_method2[1]}\")\n",
    "    print(f\"PSNR, SSIM (Enhanced vs. Upscaled 32×32 Baseline): {psnr_ssim_low_quality_method2[0]:.2f} dB, {psnr_ssim_low_quality_method2[1]}\")\n",
    "    \n",
    "    print('-----------------------------------------')\n",
    "    \n",
    "    print(\"Results for using NO references\")\n",
    "    print(f\"PSNR, SSIM (Enhanced vs. High-Quality Reference): {psnr_ssim_high_quality_method3[0]:.2f} dB, {psnr_ssim_high_quality_method3[1]}\")\n",
    "    print(f\"PSNR (Enhanced vs. Upscaled 32×32 Baseline): {psnr_ssim_low_quality_method3[0]:.2f} dB, {psnr_ssim_low_quality_method3[1]}\")\n",
    "    \n",
    "    print('-----------------------------------------')\n",
    "    \n",
    "    print('reconstructed video quality only using DLG')\n",
    "    print(f'PSNR, SSIM (High-Quality vs Upscaled 32×32 Baseline)  {psnr_ssim_baseline[0], psnr_ssim_baseline[1]}')\n"
   ]
  },
  {
   "cell_type": "markdown",
   "id": "b29c9f26-b63e-4a52-a379-f2033c085932",
   "metadata": {},
   "source": [
    "# Results for video 1"
   ]
  },
  {
   "cell_type": "code",
   "execution_count": 10,
   "id": "4c3f7a45-ed12-4b26-a5f3-de40f59cb787",
   "metadata": {},
   "outputs": [
    {
     "name": "stdout",
     "output_type": "stream",
     "text": [
      "Results for using 1 reference\n",
      "PSNR, SSIM (Enhanced vs. High-Quality Reference): 28.68 dB, 0.22540953441628717\n",
      "PSNR, SSIM (Enhanced vs. Upscaled 32×32 Baseline): 30.12 dB, 0.669345549154031\n",
      "-----------------------------------------\n",
      "Results for using multiple references\n",
      "PSNR, SSIM (Enhanced vs. High-Quality Reference): 28.68 dB, 0.2263069760913325\n",
      "PSNR, SSIM (Enhanced vs. Upscaled 32×32 Baseline): 30.14 dB, 0.6743828010956185\n",
      "-----------------------------------------\n",
      "Results for using NO references\n",
      "PSNR, SSIM (Enhanced vs. High-Quality Reference): 28.75 dB, 0.21447792692339196\n",
      "PSNR (Enhanced vs. Upscaled 32×32 Baseline): 29.52 dB, 0.6103029527575577\n",
      "-----------------------------------------\n",
      "reconstructed video quality only using DLG\n",
      "PSNR, SSIM (High-Quality vs Upscaled 32×32 Baseline)  (28.400091463053652, 0.20256872377908608)\n"
     ]
    }
   ],
   "source": [
    "# Paths to videos\n",
    "high_quality_video = \"videos/video1.mp4\"  # 240x320 original\n",
    "low_quality_video_after_dlg = \"videos_obtained_by_dlg/output_video.mp4\"  # 32x32 original\n",
    "enhanced_video_with_1_ref = \"enhanced_videos/enhanced_video_one_with_1_ref.mp4\"  # 128x128 enhanced\n",
    "enhanced_video_with_2_ref = \"enhanced_videos/enhanced_video_one_with_2_ref.mp4\"\n",
    "enhanced_video_with_no_ref = \"enhanced_videos/enhanced_video_one_zero_ref.mp4\"\n",
    "\n",
    "quality_assesment(high_quality_video, low_quality_video_after_dlg, enhanced_video_with_1_ref, \n",
    "                      enhanced_video_with_2_ref, enhanced_video_with_no_ref)"
   ]
  },
  {
   "cell_type": "markdown",
   "id": "de6a5e8a-eeb0-4130-9205-9802074e085a",
   "metadata": {},
   "source": [
    "# Results for video 2"
   ]
  },
  {
   "cell_type": "code",
   "execution_count": 11,
   "id": "7692f76f-ba4c-4621-9b1c-97bf64704510",
   "metadata": {},
   "outputs": [
    {
     "name": "stdout",
     "output_type": "stream",
     "text": [
      "Results for using 1 reference\n",
      "PSNR, SSIM (Enhanced vs. High-Quality Reference): 28.76 dB, 0.22062955047439076\n",
      "PSNR, SSIM (Enhanced vs. Upscaled 32×32 Baseline): 30.57 dB, 0.7006031482863804\n",
      "-----------------------------------------\n",
      "Results for using multiple references\n",
      "PSNR, SSIM (Enhanced vs. High-Quality Reference): 28.76 dB, 0.22045389195464757\n",
      "PSNR, SSIM (Enhanced vs. Upscaled 32×32 Baseline): 30.57 dB, 0.6997962755360385\n",
      "-----------------------------------------\n",
      "Results for using NO references\n",
      "PSNR, SSIM (Enhanced vs. High-Quality Reference): 28.86 dB, 0.2311224597400999\n",
      "PSNR (Enhanced vs. Upscaled 32×32 Baseline): 30.01 dB, 0.6841739678113785\n",
      "-----------------------------------------\n",
      "reconstructed video quality only using DLG\n",
      "PSNR, SSIM (High-Quality vs Upscaled 32×32 Baseline)  (28.46833393409526, 0.19676092749753968)\n"
     ]
    }
   ],
   "source": [
    "# Paths to videos\n",
    "high_quality_video = \"videos/video2.mp4\"  # 240x320 original\n",
    "low_quality_video_after_dlg = \"videos_obtained_by_dlg/output_video_second.mp4\"  # 32x32 original\n",
    "enhanced_video_with_1_ref = \"enhanced_videos/enhanced_video_two_with_1_ref.mp4\"  # 128x128 enhanced\n",
    "enhanced_video_with_5_ref = \"enhanced_videos/enhanced_video_two_with_5_ref.mp4\"\n",
    "enhanced_video_with_no_ref = \"enhanced_videos/enhanced_video_two_zero_ref.mp4\"\n",
    "\n",
    "quality_assesment(high_quality_video, low_quality_video_after_dlg, enhanced_video_with_1_ref, \n",
    "                      enhanced_video_with_5_ref, enhanced_video_with_no_ref)"
   ]
  },
  {
   "cell_type": "markdown",
   "id": "1c56e644-6105-429a-b198-087e978a2d86",
   "metadata": {},
   "source": [
    "# Results for video 4"
   ]
  },
  {
   "cell_type": "code",
   "execution_count": 12,
   "id": "2a61b857-121b-48df-bd7b-70f44e78204f",
   "metadata": {},
   "outputs": [
    {
     "name": "stdout",
     "output_type": "stream",
     "text": [
      "Results for using 1 reference\n",
      "PSNR, SSIM (Enhanced vs. High-Quality Reference): 28.95 dB, 0.3176517925743453\n",
      "PSNR, SSIM (Enhanced vs. Upscaled 32×32 Baseline): 32.76 dB, 0.8770833305914224\n",
      "-----------------------------------------\n",
      "Results for using multiple references\n",
      "PSNR, SSIM (Enhanced vs. High-Quality Reference): 28.95 dB, 0.31782212612839056\n",
      "PSNR, SSIM (Enhanced vs. Upscaled 32×32 Baseline): 32.77 dB, 0.8780426687434114\n",
      "-----------------------------------------\n",
      "Results for using NO references\n",
      "PSNR, SSIM (Enhanced vs. High-Quality Reference): 28.74 dB, 0.29563306725180477\n",
      "PSNR (Enhanced vs. Upscaled 32×32 Baseline): 31.37 dB, 0.7977580691186403\n",
      "-----------------------------------------\n",
      "reconstructed video quality only using DLG\n",
      "PSNR, SSIM (High-Quality vs Upscaled 32×32 Baseline)  (28.632599289309415, 0.2880909293180442)\n"
     ]
    }
   ],
   "source": [
    "# Paths to videos\n",
    "high_quality_video = \"videos/video5.mp4\"  # 240x320 original\n",
    "low_quality_video_after_dlg = \"videos_obtained_by_dlg/output_video_fourth.mp4\"  # 32x32 original\n",
    "enhanced_video_with_1_ref = \"enhanced_videos/enhanced_video_four_with_1_ref.mp4\"  # 128x128 enhanced\n",
    "enhanced_video_with_5_ref = \"enhanced_videos/enhanced_video_four_with_5_ref.mp4\"\n",
    "enhanced_video_with_no_ref = \"enhanced_videos/enhanced_video_four_zero_ref.mp4\"\n",
    "\n",
    "quality_assesment(high_quality_video, low_quality_video_after_dlg, enhanced_video_with_1_ref, \n",
    "                      enhanced_video_with_5_ref, enhanced_video_with_no_ref)"
   ]
  },
  {
   "cell_type": "markdown",
   "id": "7afd844b-b10c-4c34-85e3-000ed52c67bb",
   "metadata": {},
   "source": [
    "# Bit depth check"
   ]
  },
  {
   "cell_type": "code",
   "execution_count": 13,
   "id": "e9bcc965-c978-4a3f-b142-f8366d3d782b",
   "metadata": {},
   "outputs": [
    {
     "name": "stdout",
     "output_type": "stream",
     "text": [
      "Bit Depth: 8\n",
      "Color Type: 2 (RGB)\n",
      " This is an 8-bit PNG.\n"
     ]
    }
   ],
   "source": [
    "def check_png_bit_depth(filename):\n",
    "    with open(filename, \"rb\") as f:\n",
    "        f.seek(24)  # Jumping to byte 24 (zero-based index)\n",
    "        bit_depth = int.from_bytes(f.read(1), \"big\")  # Reading 1 byte for bit depth\n",
    "        color_type = int.from_bytes(f.read(1), \"big\")  # Reading 1 byte for color type\n",
    "\n",
    "    color_types = {\n",
    "        0: \"Grayscale\",\n",
    "        2: \"RGB\",\n",
    "        3: \"Indexed (Colormapped)\",\n",
    "        4: \"Grayscale + Alpha\",\n",
    "        6: \"RGBA\"\n",
    "    }\n",
    "\n",
    "    color_desc = color_types.get(color_type, \"Unknown\")\n",
    "\n",
    "    print(f\"Bit Depth: {bit_depth}\")\n",
    "    print(f\"Color Type: {color_type} ({color_desc})\")\n",
    "\n",
    "    if bit_depth == 8:\n",
    "        print(\" This is an 8-bit PNG.\")\n",
    "    else:\n",
    "        print(\" This is NOT an 8-bit PNG.\")\n",
    "\n",
    "# Example usage\n",
    "check_png_bit_depth(\"frames/frame_0001.png\")\n"
   ]
  },
  {
   "cell_type": "code",
   "execution_count": null,
   "id": "251a715c-fb0d-49bc-ab2a-ec93db83c570",
   "metadata": {},
   "outputs": [],
   "source": []
  }
 ],
 "metadata": {
  "kernelspec": {
   "display_name": "Python 3 (ipykernel)",
   "language": "python",
   "name": "python3"
  },
  "language_info": {
   "codemirror_mode": {
    "name": "ipython",
    "version": 3
   },
   "file_extension": ".py",
   "mimetype": "text/x-python",
   "name": "python",
   "nbconvert_exporter": "python",
   "pygments_lexer": "ipython3",
   "version": "3.9.18"
  }
 },
 "nbformat": 4,
 "nbformat_minor": 5
}
