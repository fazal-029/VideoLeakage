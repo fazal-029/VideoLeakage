{
 "cells": [
  {
   "cell_type": "code",
   "execution_count": 1,
   "id": "f3a2d424-ed41-404b-9b73-ed24ecabe926",
   "metadata": {},
   "outputs": [],
   "source": [
    "import torch\n",
    "import torch.nn as nn\n",
    "import torch.optim as optim\n",
    "import torchvision\n",
    "from torchvision import datasets\n",
    "import torchvision.transforms as transforms\n",
    "from torch.utils.data import Subset, DataLoader\n",
    "import numpy as np\n",
    "import torch.nn.functional as F\n",
    "import matplotlib.pyplot as plt\n",
    "from collections import OrderedDict"
   ]
  },
  {
   "cell_type": "code",
   "execution_count": 2,
   "id": "9f96cab7-d5d3-4f4b-9168-1b020a7139da",
   "metadata": {},
   "outputs": [
    {
     "name": "stdout",
     "output_type": "stream",
     "text": [
      "Files already downloaded and verified\n",
      "Running on cpu\n"
     ]
    }
   ],
   "source": [
    "tp = transforms.Compose([\n",
    "    transforms.Resize(32),\n",
    "    transforms.CenterCrop(32),\n",
    "    transforms.ToTensor()\n",
    "])\n",
    "\n",
    "tt = transforms.ToPILImage()\n",
    "dst = datasets.CIFAR100(\"~/.torch\", download=True, transform=tp)\n",
    "\n",
    "device = \"cpu\"\n",
    "if torch.cuda.is_available():\n",
    "    device = \"cuda\"\n",
    "print(\"Running on %s\" % device)\n",
    "\n",
    "def label_to_onehot(target, num_classes=100):\n",
    "    target = torch.unsqueeze(target, 1)\n",
    "    onehot_target = torch.zeros(target.size(0), num_classes, device=target.device)\n",
    "    onehot_target.scatter_(1, target, 1)\n",
    "    return onehot_target\n",
    "\n",
    "def cross_entropy_for_onehot(pred, target):\n",
    "    return torch.mean(torch.sum(- target * F.log_softmax(pred, dim=-1), 1))\n",
    "\n",
    "def weights_init(m):\n",
    "    try:\n",
    "        if hasattr(m, \"weight\") and m.weight is not None:\n",
    "            m.weight.data.uniform_(-0.5, 0.5)\n",
    "    except Exception as e:\n",
    "        print(f'Warning: failed in weights_init for {m._get_name()}.weight. Details: {e}')\n",
    "    try:\n",
    "        if hasattr(m, \"bias\") and m.bias is not None:  # Added 'and m.bias is not None'\n",
    "            m.bias.data.uniform_(-0.5, 0.5)\n",
    "    except Exception as e:\n",
    "        print(f'Warning: failed in weights_init for {m._get_name()}.bias. Details: {e}')"
   ]
  },
  {
   "cell_type": "code",
   "execution_count": 3,
   "id": "a623c6eb-44f2-4066-af77-8a890c964a70",
   "metadata": {},
   "outputs": [],
   "source": [
    "# Define ResNet-20 (for CIFAR-10)\n",
    "class ResNet20(nn.Module):\n",
    "    def __init__(self, num_classes=100):\n",
    "        super(ResNet20, self).__init__()\n",
    "        self.in_channels = 16\n",
    "        self.conv1 = nn.Conv2d(3, 16, kernel_size=3, stride=1, padding=1, bias=False)\n",
    "        self.bn1 = nn.BatchNorm2d(16)\n",
    "        self.layer1 = self._make_layer(16, 3, stride=1)\n",
    "        self.layer2 = self._make_layer(32, 3, stride=2)\n",
    "        self.layer3 = self._make_layer(64, 3, stride=2)\n",
    "        self.linear = nn.Linear(64, num_classes)\n",
    "\n",
    "    def _make_layer(self, out_channels, num_blocks, stride):\n",
    "        layers = []\n",
    "        layers.append(ResBlock(self.in_channels, out_channels, stride))\n",
    "        self.in_channels = out_channels\n",
    "        for _ in range(1, num_blocks):\n",
    "            layers.append(ResBlock(out_channels, out_channels, stride=1))\n",
    "        return nn.Sequential(*layers)\n",
    "\n",
    "    def forward(self, x):\n",
    "        out = F.relu(self.bn1(self.conv1(x)))\n",
    "        out = self.layer1(out)\n",
    "        out = self.layer2(out)\n",
    "        out = self.layer3(out)\n",
    "        out = F.avg_pool2d(out, out.size()[3])\n",
    "        out = out.view(out.size(0), -1)\n",
    "        return self.linear(out)\n",
    "\n",
    "class ResBlock(nn.Module):\n",
    "    def __init__(self, in_channels, out_channels, stride):\n",
    "        super(ResBlock, self).__init__()\n",
    "        self.conv1 = nn.Conv2d(in_channels, out_channels, kernel_size=3, stride=stride, padding=1, bias=False)\n",
    "        self.bn1 = nn.BatchNorm2d(out_channels)\n",
    "        self.conv2 = nn.Conv2d(out_channels, out_channels, kernel_size=3, stride=1, padding=1, bias=False)\n",
    "        self.bn2 = nn.BatchNorm2d(out_channels)\n",
    "        self.shortcut = nn.Sequential()\n",
    "        if stride != 1 or in_channels != out_channels:\n",
    "            self.shortcut = nn.Sequential(\n",
    "                nn.Conv2d(in_channels, out_channels, kernel_size=1, stride=stride, bias=False),\n",
    "                nn.BatchNorm2d(out_channels)\n",
    "            )\n",
    "\n",
    "    def forward(self, x):\n",
    "        out = F.relu(self.bn1(self.conv1(x)))\n",
    "        out = self.bn2(self.conv2(out))\n",
    "        out += self.shortcut(x)\n",
    "        return F.relu(out)"
   ]
  },
  {
   "cell_type": "code",
   "execution_count": 4,
   "id": "97af2260-f677-4f8f-9b55-0c5d8013bc8a",
   "metadata": {},
   "outputs": [],
   "source": [
    "model_shared = ResNet20().to(device)\n",
    "model_shared.load_state_dict(torch.load(\"resnet20_cifar10.pth\"))\n",
    "\n",
    "# 2. Freeze all weights\n",
    "for param in model_shared.parameters():\n",
    "    param.requires_grad = False\n",
    "\n",
    "# 3. Remove the final classification layer\n",
    "# (Replace it with Identity() to keep the feature vector)\n",
    "model_shared.linear = nn.Identity()"
   ]
  },
  {
   "cell_type": "code",
   "execution_count": 5,
   "id": "3f9e2fbc-3349-4d55-b238-b6d2dd6e86f0",
   "metadata": {},
   "outputs": [],
   "source": [
    "# simplest classifier\n",
    "class Classifier1(nn.Module):\n",
    "    def __init__(self, input_dim=64, num_classes=100):\n",
    "        super(Classifier1, self).__init__()\n",
    "        self.fc1 = nn.Linear(input_dim, 32)\n",
    "        self.fc2 = nn.Linear(32, num_classes)\n",
    "\n",
    "    def forward(self, x):\n",
    "        x = F.relu(self.fc1(x))\n",
    "        return self.fc2(x)\n",
    "\n",
    "# A bit more complex than classifier 1.\n",
    "class Classifier2(nn.Module):\n",
    "    def __init__(self, input_dim=64, num_classes=100, dropout_prob=0.3):\n",
    "        super(Classifier2, self).__init__()\n",
    "        self.fc1 = nn.Linear(input_dim, 128)  # Slightly wider first layer\n",
    "        self.fc2 = nn.Linear(128, 64)         # Intermediate layer\n",
    "        self.fc3 = nn.Linear(64, num_classes) # Output layer\n",
    "        self.dropout = nn.Dropout(dropout_prob)\n",
    "        \n",
    "    def forward(self, x):\n",
    "        x = F.relu(self.fc1(x))\n",
    "        x = self.dropout(x)\n",
    "        x = F.relu(self.fc2(x))\n",
    "        x = self.dropout(x)\n",
    "        return self.fc3(x)\n",
    "\n",
    "# A bit more complex than classifier 2.\n",
    "class Classifier3(nn.Module):\n",
    "    def __init__(self, input_dim=64, num_classes=100, dropout_prob=0.2):\n",
    "        super(Classifier3, self).__init__()\n",
    "        self.fc1 = nn.Linear(input_dim, 64)\n",
    "        self.norm1 = nn.LayerNorm(64)\n",
    "        self.fc2 = nn.Linear(64, 32)\n",
    "        self.norm2 = nn.LayerNorm(32)\n",
    "        self.fc3 = nn.Linear(32, num_classes)\n",
    "        self.dropout = nn.Dropout(dropout_prob)\n",
    "        \n",
    "    def forward(self, x):\n",
    "        x = F.relu(self.norm1(self.fc1(x)))\n",
    "        x = self.dropout(x)\n",
    "        x = F.relu(self.norm2(self.fc2(x)))\n",
    "        x = self.dropout(x)\n",
    "        return self.fc3(x)\n"
   ]
  },
  {
   "cell_type": "code",
   "execution_count": 6,
   "id": "5e701ca9-e0be-4e71-89f7-3427d1b4cb97",
   "metadata": {},
   "outputs": [],
   "source": [
    "classifier = Classifier2().to(device)\n",
    "classifier.apply(weights_init)\n",
    "optimizer = optim.Adam(classifier.parameters(), lr=0.001)\n",
    "def cross_entropy_for_onehot(pred, target):\n",
    "    return torch.mean(torch.sum(- target * F.log_softmax(pred, dim=-1), 1))\n",
    "criterion = nn.CrossEntropyLoss()"
   ]
  },
  {
   "cell_type": "code",
   "execution_count": 7,
   "id": "b493b44e-9e92-47d7-8eb5-0b08bd4cb4d8",
   "metadata": {},
   "outputs": [
    {
     "name": "stdout",
     "output_type": "stream",
     "text": [
      "GT label is 84. \n",
      "Onehot label is 84.\n"
     ]
    },
    {
     "data": {
      "image/png": "[encoded data removed]",
      "text/plain": [
       "<Figure size 640x480 with 1 Axes>"
      ]
     },
     "metadata": {},
     "output_type": "display_data"
    }
   ],
   "source": [
    "######### honest partipant #########\n",
    "img_index = 25\n",
    "gt_data = dst[img_index][0].to(device)\n",
    "gt_data = gt_data.view(1, *gt_data.size())\n",
    "gt_label = torch.Tensor([dst[img_index][1]]).long().to(device)\n",
    "gt_label = gt_label.view(1, )\n",
    "gt_onehot_label = label_to_onehot(gt_label, num_classes=100)\n",
    "\n",
    "plt.imshow(tt(gt_data[0].cpu()))\n",
    "plt.title(\"Ground truth image\")\n",
    "print(\"GT label is %d.\" % gt_label.item(), \"\\nOnehot label is %d.\" % torch.argmax(gt_onehot_label, dim=-1).item())\n",
    "# plt.savefig('image1.png')\n",
    "# plt.show()"
   ]
  },
  {
   "cell_type": "code",
   "execution_count": 8,
   "id": "8780893d-0fd2-4165-bb28-1208bcd280f3",
   "metadata": {},
   "outputs": [],
   "source": [
    "# compute original gradient \n",
    "ground_truth_feature_matrix =  model_shared(gt_data) # torch.randn((1, 64)).to(device).requires_grad_(True) \n",
    "out = classifier(ground_truth_feature_matrix)\n",
    "y = criterion(out, gt_onehot_label)\n",
    "dy_dx = torch.autograd.grad(y, classifier.parameters())\n",
    "# share the gradients with other clients\n",
    "original_dy_dx = list((_.detach().clone() for _ in dy_dx))"
   ]
  },
  {
   "cell_type": "markdown",
   "id": "181e086c-48c7-4431-bc2b-1ae2014e9b4c",
   "metadata": {},
   "source": [
    "# DLG starts here"
   ]
  },
  {
   "cell_type": "code",
   "execution_count": 9,
   "id": "318f9fe1-e0fb-43ca-9ef0-adfe42d58248",
   "metadata": {},
   "outputs": [],
   "source": [
    "after_50_iteration = 999999\n",
    "best_state = {\n",
    "    'loss': 99999,\n",
    "    'reconstructed_matrix': None\n",
    "}\n",
    "\n",
    "for i in range(50):\n",
    "    # generate dummy data and label\n",
    "    dummy_data = torch.randn(ground_truth_feature_matrix.size()).to(device).requires_grad_(True)\n",
    "    dummy_label = torch.randn(gt_onehot_label.size()).to(device).requires_grad_(True)\n",
    "    optimizer = torch.optim.LBFGS([dummy_data, dummy_label] )\n",
    "    current_loss = None\n",
    "    \n",
    "    history = []\n",
    "    for iters in range(500):\n",
    "        def closure():\n",
    "            optimizer.zero_grad()\n",
    "    \n",
    "            pred = classifier(dummy_data) \n",
    "            dummy_onehot_label = F.softmax(dummy_label, dim=-1)\n",
    "            dummy_loss = criterion(pred, dummy_onehot_label)\n",
    "            dummy_dy_dx = torch.autograd.grad(dummy_loss, classifier.parameters(), create_graph=True)\n",
    "            \n",
    "            grad_diff = 0\n",
    "            grad_count = 0\n",
    "            for gx, gy in zip(dummy_dy_dx, original_dy_dx): # TODO: fix the variablas here\n",
    "                grad_diff += ((gx - gy) ** 2).sum()\n",
    "                grad_count += gx.nelement()\n",
    "            # grad_diff = grad_diff / grad_count * 1000\n",
    "            grad_diff.backward()\n",
    "            \n",
    "            return grad_diff\n",
    "        \n",
    "        optimizer.step(closure)\n",
    "        if iters % 20 == 0: \n",
    "            current_loss = closure()\n",
    "            # print(iters, \"%.4f\" % current_loss.item())\n",
    "        history.append(dummy_data[0].cpu())\n",
    "        \n",
    "    if current_loss < after_50_iteration:\n",
    "        after_50_iteration = current_loss\n",
    "        best_state['loss'] = current_loss\n",
    "        best_state['reconstructed_matrix'] = dummy_data\n",
    "    if current_loss < 0.00001:\n",
    "        best_state['loss'] = current_loss\n",
    "        best_state['reconstructed_matrix'] = dummy_data\n",
    "        break"
   ]
  },
  {
   "cell_type": "code",
   "execution_count": 10,
   "id": "f271b4b2-f815-4482-af52-8244d60be8f6",
   "metadata": {},
   "outputs": [
    {
     "name": "stdout",
     "output_type": "stream",
     "text": [
      "best results from 50 iterations\n",
      "best loss: 31268.9140625\n",
      "reconstructed data: tensor([[  -3.8668, -125.8545, -180.9626,  -74.6563,   58.8770,  237.1508,\n",
      "           58.7959, -138.1024, -105.7960,   13.3949, -148.8306,   72.5349,\n",
      "         -232.7437,  210.4364,  145.7260,  159.9144,  -49.7592, -172.6244,\n",
      "          -29.3233,  -72.5181, -119.6697,  142.1348,    5.9675,  209.8351,\n",
      "         -116.9721,    0.4430,   26.0194,  -77.2023,  115.3932,  216.8689,\n",
      "         -166.5563,   88.3353,  -31.2429,  -59.3146,   28.0099, -195.9978,\n",
      "         -109.2310,   99.0364,  -64.0598,  -30.6986,  -41.9937,  -56.8957,\n",
      "         -125.7026,    5.7151, -203.9180, -150.7401,   96.6960, -201.1729,\n",
      "          150.0789,   79.8496, -186.3351,  -65.2328,  -22.1324,  -15.5192,\n",
      "          202.8631,   90.1464,   43.8237,  -55.9034,  -50.2190,   73.6373,\n",
      "          -63.9623,   58.8460,  -56.0812, -199.5088]], requires_grad=True), ground truth tensor([[1.6594, 1.6851, 1.5739, 1.5922, 1.6475, 1.9456, 1.5760, 1.5572, 1.7283,\n",
      "         1.3682, 1.4964, 1.3229, 1.4383, 1.6828, 1.4704, 1.6110, 1.5296, 1.0040,\n",
      "         1.6437, 1.8951, 1.6850, 1.4664, 1.4830, 1.4127, 1.5113, 1.3804, 1.6133,\n",
      "         1.6509, 1.5186, 1.5320, 1.6058, 1.5622, 1.6572, 1.4124, 1.1097, 1.5419,\n",
      "         1.5737, 1.3950, 1.5675, 1.5751, 1.6170, 1.4995, 1.5029, 1.7241, 1.7387,\n",
      "         1.5396, 1.1590, 1.5140, 1.0932, 1.5765, 1.3976, 1.7565, 1.4108, 1.3665,\n",
      "         1.1500, 1.4556, 1.5779, 1.3575, 1.8859, 1.4348, 1.6789, 1.3101, 1.3429,\n",
      "         1.8155]])\n"
     ]
    }
   ],
   "source": [
    "print('best results from 50 iterations')\n",
    "print(f\"best loss: {best_state['loss']}\")\n",
    "print(f\"reconstructed data: {best_state['reconstructed_matrix']}, ground truth {ground_truth_feature_matrix}\")"
   ]
  },
  {
   "cell_type": "markdown",
   "id": "7109fb4a-ccd6-45d7-90cc-9954f85eef4c",
   "metadata": {},
   "source": [
    "# iDLG starts here."
   ]
  },
  {
   "cell_type": "code",
   "execution_count": 11,
   "id": "74e05519-a1aa-4aa6-aafe-f1bd1aa67ccc",
   "metadata": {},
   "outputs": [],
   "source": [
    "out_idlg = classifier(ground_truth_feature_matrix)\n",
    "criterion = nn.CrossEntropyLoss()\n",
    "y = criterion(out_idlg, gt_label)\n",
    "dy_dx = torch.autograd.grad(y, classifier.parameters())\n",
    "# share the gradients with other clients\n",
    "original_dy_dx = list((_.detach().clone() for _ in dy_dx))"
   ]
  },
  {
   "cell_type": "code",
   "execution_count": 12,
   "id": "d50609b0-b960-4ccc-94db-3f8cb068a032",
   "metadata": {},
   "outputs": [
    {
     "name": "stdout",
     "output_type": "stream",
     "text": [
      "tensor([84]) tensor([84])\n"
     ]
    }
   ],
   "source": [
    "label_pred =  torch.argmin(torch.sum(original_dy_dx[-2], dim=-1), dim=-1).detach().reshape((1,)).requires_grad_(False)\n",
    "print(gt_label, label_pred)"
   ]
  },
  {
   "cell_type": "code",
   "execution_count": 13,
   "id": "10e0f087-3a40-44b8-8bc5-434f8f1d676a",
   "metadata": {},
   "outputs": [],
   "source": [
    "after_50_iteration = 999999\n",
    "best_state = {\n",
    "    'loss': 99999,\n",
    "    'reconstructed_matrix': None\n",
    "}\n",
    "\n",
    "for i in range(50):\n",
    "    history = []\n",
    "    dummy_data = torch.randn(ground_truth_feature_matrix.size()).to(device).requires_grad_(True)\n",
    "    optimizer = torch.optim.Adam([dummy_data], lr=0.01)\n",
    "    current_loss = None\n",
    "    \n",
    "    for iters in range(2000):\n",
    "        def closure():\n",
    "            optimizer.zero_grad()\n",
    "    \n",
    "            pred = classifier(dummy_data) \n",
    "            dummy_loss = criterion(pred, label_pred)\n",
    "            dummy_dy_dx = torch.autograd.grad(dummy_loss, classifier.parameters(), create_graph=True)\n",
    "            \n",
    "            grad_diff = 0\n",
    "            grad_count = 0\n",
    "            for gx, gy in zip(dummy_dy_dx, original_dy_dx): # TODO: fix the variablas here\n",
    "                grad_diff += ((gx - gy) ** 2).sum()\n",
    "                grad_count += gx.nelement()\n",
    "            # grad_diff = grad_diff / grad_count * 1000\n",
    "            grad_diff.backward()\n",
    "            \n",
    "            return grad_diff\n",
    "        \n",
    "        optimizer.step(closure)\n",
    "        if iters % 100 == 0: \n",
    "            current_loss = closure()\n",
    "            # print(iters, \"%.4f\" % current_loss.item())\n",
    "        history.append(dummy_data[0].cpu())\n",
    "    if current_loss < after_50_iteration:\n",
    "        after_50_iteration = current_loss\n",
    "        best_state['loss'] = current_loss\n",
    "        best_state['reconstructed_matrix'] = dummy_data\n",
    "    if current_loss < 0.00001:\n",
    "        best_state['loss'] = current_loss\n",
    "        best_state['reconstructed_matrix'] = dummy_data\n",
    "        break"
   ]
  },
  {
   "cell_type": "code",
   "execution_count": 14,
   "id": "98df85b4-89a7-4da2-9815-763b70dca879",
   "metadata": {},
   "outputs": [
    {
     "name": "stdout",
     "output_type": "stream",
     "text": [
      "best results from 50 iterations\n",
      "best loss: 19458.314453125\n",
      "reconstructed data: tensor([[ 0.6114,  0.4547,  0.8057,  0.3445,  0.2909,  0.9583,  0.4908, -0.2084,\n",
      "          0.8447,  0.7503,  0.4710,  0.1208,  0.0147,  0.3091,  0.4054,  0.2314,\n",
      "          0.2922, -0.1382, -0.1419,  0.2927,  0.3632,  0.2056,  0.4264,  0.1453,\n",
      "          0.2593,  0.8768,  0.1191,  0.4203,  0.4049,  0.8425, -0.1377, -0.1704,\n",
      "          0.5864,  0.4980,  0.7709,  0.5770,  0.1834,  0.5530,  0.8915,  1.2203,\n",
      "          0.5503,  1.0114,  0.4817,  1.2081,  0.5326, -0.0424, -0.4816,  0.2991,\n",
      "          0.1812,  0.6026,  0.2039,  1.0254,  0.3908,  0.2498,  0.3799,  0.0597,\n",
      "          1.0006, -0.2122, -0.1720, -0.3960,  0.9948,  0.3160,  0.0664,  0.4414]],\n",
      "       requires_grad=True), ground truth tensor([[1.6594, 1.6851, 1.5739, 1.5922, 1.6475, 1.9456, 1.5760, 1.5572, 1.7283,\n",
      "         1.3682, 1.4964, 1.3229, 1.4383, 1.6828, 1.4704, 1.6110, 1.5296, 1.0040,\n",
      "         1.6437, 1.8951, 1.6850, 1.4664, 1.4830, 1.4127, 1.5113, 1.3804, 1.6133,\n",
      "         1.6509, 1.5186, 1.5320, 1.6058, 1.5622, 1.6572, 1.4124, 1.1097, 1.5419,\n",
      "         1.5737, 1.3950, 1.5675, 1.5751, 1.6170, 1.4995, 1.5029, 1.7241, 1.7387,\n",
      "         1.5396, 1.1590, 1.5140, 1.0932, 1.5765, 1.3976, 1.7565, 1.4108, 1.3665,\n",
      "         1.1500, 1.4556, 1.5779, 1.3575, 1.8859, 1.4348, 1.6789, 1.3101, 1.3429,\n",
      "         1.8155]])\n"
     ]
    }
   ],
   "source": [
    "print('best results from 50 iterations')\n",
    "print(f\"best loss: {best_state['loss']}\")\n",
    "print(f\"reconstructed data: {best_state['reconstructed_matrix']}, ground truth {ground_truth_feature_matrix}\")"
   ]
  },
  {
   "cell_type": "markdown",
   "id": "16c6b3ff-a456-4bd6-8b47-421610d142f6",
   "metadata": {},
   "source": [
    "# R-GAP starts here"
   ]
  },
  {
   "cell_type": "code",
   "execution_count": 15,
   "id": "08478a8e-25be-4cdb-a837-d42f3688d840",
   "metadata": {},
   "outputs": [],
   "source": [
    "class Classifier2_R_GAP(nn.Module):\n",
    "    def __init__(self, input_dim=64, num_classes=1, dropout_prob=0.3): # num_classes often 1 for these attacks\n",
    "        super(Classifier2_R_GAP, self).__init__()\n",
    "        \n",
    "        act = nn.LeakyReLU(negative_slope=0.2)\n",
    "\n",
    "        self.body = nn.ModuleList([\n",
    "            # Block 1, corresponding to original fc1\n",
    "            nn.Sequential(OrderedDict([\n",
    "                ('layer', nn.Linear(input_dim, 128, bias=False)),\n",
    "                ('act', act)\n",
    "            ])),\n",
    "            # Block 2, corresponding to original fc2\n",
    "            nn.Sequential(OrderedDict([\n",
    "                ('layer', nn.Linear(128, 64, bias=False)),\n",
    "                ('act', act)\n",
    "            ])),\n",
    "            # Block 3, corresponding to original fc3 (output layer)\n",
    "            nn.Sequential(OrderedDict([\n",
    "                ('layer', nn.Linear(64, num_classes, bias=False)),\n",
    "                ('act', nn.Identity()) # No activation after the final layer\n",
    "            ]))\n",
    "        ])\n",
    "\n",
    "    def forward(self, x):\n",
    "        x_shape = []\n",
    "\n",
    "        for i, module_seq in enumerate(self.body):\n",
    "            if isinstance(module_seq.layer, nn.Linear) and x.dim() > 2:\n",
    "                if i == 0 or not isinstance(self.body[i-1].layer, nn.Linear):\n",
    "                    x = x.flatten(1)\n",
    "            \n",
    "            x_shape.append(x.shape)\n",
    "            x = module_seq(x)\n",
    "            \n",
    "        return x, x_shape\n",
    "classifier = Classifier2_R_GAP().to(device)"
   ]
  },
  {
   "cell_type": "code",
   "execution_count": 16,
   "id": "6fff377e-251b-4c8f-9e3e-d657ae74045d",
   "metadata": {},
   "outputs": [],
   "source": [
    "def logistic_loss(y, pred, setup):\n",
    "    y = torch.as_tensor(y, **setup)\n",
    "    pred = torch.as_tensor(pred, **setup)\n",
    "\n",
    "    if pred.shape != y.shape:\n",
    "        y = y.view_as(pred)\n",
    "    eps = 1e-7\n",
    "    pred_clamped = torch.clamp(pred, eps, 1.0 - eps)\n",
    "    loss = -(y * torch.log(pred_clamped) + (1 - y) * torch.log(1 - pred_clamped))\n",
    "    return torch.mean(loss)\n",
    "\n",
    "pred, x_shape = classifier(ground_truth_feature_matrix)"
   ]
  },
  {
   "cell_type": "code",
   "execution_count": 17,
   "id": "d829ebe1-8125-4c55-bae8-c4646c89da43",
   "metadata": {},
   "outputs": [],
   "source": [
    "def inverse_udldu(udldu):\n",
    "    '''derive u from udldu using gradient descend based method'''\n",
    "    lr = 0.01\n",
    "    u = torch.tensor(0).to(**setup).requires_grad_(True)\n",
    "    udldu = torch.tensor(udldu).to(**setup)\n",
    "    optimizer = torch.optim.Adam([u], lr=lr)\n",
    "    loss_fn = nn.MSELoss()\n",
    "    for i in range(30000):\n",
    "        optimizer.zero_grad()\n",
    "        udldu_ = -u / (1 + torch.exp(u))\n",
    "        l = loss_fn(udldu_, udldu)\n",
    "        l.backward()\n",
    "        optimizer.step()\n",
    "    udldu_ = -u / (1 + torch.exp(u))\n",
    "    print(f\"The error term of inversing udldu: {udldu.item()-udldu_.item():.1e}\")\n",
    "    return u.detach().numpy()\n",
    "\n",
    "def derive_leakyrelu(x, slope):\n",
    "    return np.array([slope if a < 0 else 1 for a in x]).reshape(1, -1).astype('float32')\n",
    "\n",
    "def derive_identity(x):\n",
    "    return np.ones(x.shape).reshape(1, -1).astype('float32')\n",
    "    \n",
    "def inverse_leakyrelu(x, slope):\n",
    "    return np.array([a / slope if a < 0 else a for a in x]).astype('float32')\n",
    "\n",
    "def inverse_identity(x):\n",
    "    return x\n",
    "\n",
    "def peeling(in_shape, padding):\n",
    "    if padding == 0:\n",
    "        return np.ones(shape=in_shape, dtype=bool).squeeze()\n",
    "    h, w = np.array(in_shape[-2:]) + 2*padding\n",
    "    toremain = np.ones(h*w*in_shape[1], dtype=np.bool)\n",
    "    if padding:\n",
    "        for c in range(in_shape[1]):\n",
    "            for row in range(h):\n",
    "                for col in range(w):\n",
    "                    if col < padding or w-col <= padding or row < padding or h-row <= padding:\n",
    "                        i = c*h*w + row*w + col\n",
    "                        assert toremain[i]\n",
    "                        toremain[i] = False\n",
    "    return toremain\n",
    "\n",
    "def r_gap(out, k, g, x_shape, weight, module):\n",
    "    # obtain information of convolution kernel\n",
    "    if isinstance(module.layer, nn.Conv2d):\n",
    "        padding = module.layer.padding[0]\n",
    "        stride = module.layer.stride[0]\n",
    "    else:\n",
    "        padding = 0\n",
    "        stride = 1\n",
    "\n",
    "    x, weight = cnn_reconstruction(in_shape=x_shape, k=k, g=g, kernel=weight, out=out, stride=stride, padding=padding)\n",
    "    return x, weight\n",
    "\n",
    "def cnn_reconstruction(in_shape, k, g, out, kernel, stride, padding):\n",
    "    coors, x_len, y_len = generate_coordinates(x_shape=in_shape, kernel=kernel, stride=stride, padding=padding)\n",
    "    K = aggregate_g(k=k, x_len=x_len, coors=coors)\n",
    "    W = circulant_w(x_len=x_len, kernel=kernel, coors=coors, y_len=y_len)\n",
    "    P = padding_constraints(in_shape=in_shape, padding=padding)\n",
    "    p = np.zeros(shape=P.shape[0], dtype=np.float32)\n",
    "    if np.any(P):\n",
    "        a = np.concatenate((K, W, P), axis=0)\n",
    "        b = np.concatenate((g.reshape(-1), out, p), axis=0)\n",
    "    else:\n",
    "        a = np.concatenate((K, W), axis=0)\n",
    "        b = np.concatenate((g.reshape(-1), out), axis=0)\n",
    "    result = np.linalg.lstsq(a, b, rcond=None)\n",
    "    print(f'lstsq residual: {result[1]}, rank: {result[2]} -> {W.shape[-1]}, '\n",
    "          f'max/min singular value: {result[3].max():.2e}/{result[3].min():.2e}')\n",
    "    x = result[0]\n",
    "    return x[peeling(in_shape=in_shape, padding=padding)], W\n",
    "\n",
    "def fcn_reconstruction(k, gradient):\n",
    "    x = [g / c for g, c in zip(gradient, k) if c != 0]\n",
    "    x = np.mean(x, 0)\n",
    "    return x"
   ]
  },
  {
   "cell_type": "code",
   "execution_count": 18,
   "id": "1ad7783e-46da-4780-b903-bb7f5f117c0f",
   "metadata": {},
   "outputs": [
    {
     "data": {
      "text/plain": [
       "(torch.Size([1, 1]), torch.Size([1, 1]))"
      ]
     },
     "execution_count": 18,
     "metadata": {},
     "output_type": "execute_result"
    }
   ],
   "source": [
    "setup = {'device': 'cpu', 'dtype': torch.float32}\n",
    "# reversed label to make sure mu is unique, just for better demonstration\n",
    "y = pred.clone().detach().to(device) # torch.tensor([0 if p > 0 else 1 for p in pred]).to(**setup)\n",
    "pred.shape, y.shape"
   ]
  },
  {
   "cell_type": "code",
   "execution_count": 19,
   "id": "52fc2520-2108-4f31-a475-061177f948c1",
   "metadata": {},
   "outputs": [
    {
     "name": "stdout",
     "output_type": "stream",
     "text": [
      "pred: [[-0.16705966]], y: tensor([[-0.1671]])\n"
     ]
    }
   ],
   "source": [
    "print(f'pred: {pred.detach().numpy()}, y: {y}')\n",
    "pred_loss = logistic_loss(pred, y, setup)"
   ]
  },
  {
   "cell_type": "code",
   "execution_count": 20,
   "id": "baf0a7cc-2b41-41fa-9a32-0252d71cebc2",
   "metadata": {},
   "outputs": [],
   "source": [
    "dy_dx = torch.autograd.grad(pred_loss, list(classifier.parameters()))\n",
    "original_dy_dx = [g.detach().clone() for g in dy_dx]"
   ]
  },
  {
   "cell_type": "code",
   "execution_count": 21,
   "id": "c68f0665-12a4-42cd-8b38-1211b161017f",
   "metadata": {},
   "outputs": [],
   "source": [
    "original_dy_dx.reverse()"
   ]
  },
  {
   "cell_type": "code",
   "execution_count": 22,
   "id": "98a4bf2c-9e4b-499d-99c5-c9e4e3af9894",
   "metadata": {},
   "outputs": [
    {
     "name": "stdout",
     "output_type": "stream",
     "text": [
      "perform R-GAP\n",
      "printing udldu -2.692683219909668\n",
      "The error term of inversing udldu: -2.4e+00\n",
      "printing u1.2784645557403564\n"
     ]
    }
   ],
   "source": [
    "modules = classifier.body[-1::-1]\n",
    "x_shape.reverse()\n",
    "k = None\n",
    "last_weight = []\n",
    "y = torch.tensor([0 if p > 0 else 1 for p in gt_label]).to(**setup)\n",
    "\n",
    "print('perform R-GAP')\n",
    "for i in range(len(modules)):\n",
    "    g = original_dy_dx[i].numpy()\n",
    "    w = list(modules[i].layer.parameters())[0].detach().cpu().numpy()\n",
    "    \n",
    "    if k is None:\n",
    "        udldu = np.dot(g.reshape(-1), w.reshape(-1))\n",
    "        print(f'printing udldu {udldu}')\n",
    "        u = inverse_udldu(udldu)\n",
    "        print(f'printing u{u}')\n",
    "\n",
    "        # For simplicity assume y as known here. For details please refer to the paper.\n",
    "        y = np.array([-1 if n == 0 else n for n in y], dtype=np.float32).reshape(-1, 1)\n",
    "        y = y.mean() if y.mean() != 0 else 0.1\n",
    "        \n",
    "        # print(f'pred_: {u/y:.1e}, udldu: {udldu:.1e}, udldu_:{-u/(1+np.exp(u)):.1e}')\n",
    "        k = -y/(1+np.exp(u))\n",
    "        k = k.reshape(1, -1).astype(np.float32)\n",
    "\n",
    "    else:\n",
    "        # derive activation function\n",
    "        if isinstance(modules[i].act, nn.LeakyReLU):\n",
    "            da = derive_leakyrelu(x_, slope=modules[i].act.negative_slope)\n",
    "        elif isinstance(modules[i].act, nn.Identity):\n",
    "            da = derive_identity(x_)\n",
    "        else:\n",
    "            ValueError(f'Please implement the derivative function of {modules[i].act}')\n",
    "\n",
    "        # back out neuron output\n",
    "        if isinstance(modules[i].act, nn.LeakyReLU):\n",
    "            out = inverse_leakyrelu(x_, slope=modules[i].act.negative_slope)\n",
    "        elif isinstance(modules[i].act, nn.Identity):\n",
    "            out = inverse_identity(x_)\n",
    "        else:\n",
    "            ValueError(f'Please implement the inverse function of {modules[i].act}')\n",
    "        if hasattr(modules[i-1].layer, 'padding'):\n",
    "            padding = modules[i-1].layer.padding[0]\n",
    "        else:\n",
    "            padding = 0\n",
    "\n",
    "        # For a mini-batch setting, reconstruct the combination\n",
    "        in_shape = np.array(x_shape[i-1])\n",
    "        in_shape[0] = 1\n",
    "        # peel off padded entries\n",
    "        x_mask = peeling(in_shape=in_shape, padding=padding)\n",
    "        k = np.multiply(np.matmul(last_weight.transpose(), k)[x_mask], da.transpose())\n",
    "\n",
    "    if isinstance(modules[i].layer, nn.Conv2d):\n",
    "        x_, last_weight = r_gap(out=out, k=k, x_shape=x_shape[i], module=modules[i], g=g, weight=w)\n",
    "    else:\n",
    "        # In consideration of computational efficiency, for FCN only takes gradient constraints into account.\n",
    "        x_, last_weight = fcn_reconstruction(k=k, gradient=g), w"
   ]
  },
  {
   "cell_type": "code",
   "execution_count": 23,
   "id": "943f225a-43b7-4a28-b2b1-97d6f10f26c2",
   "metadata": {},
   "outputs": [
    {
     "name": "stdout",
     "output_type": "stream",
     "text": [
      "[122.79957  124.69604  116.46572  117.82588  121.91415  143.97783\n",
      " 116.625984 115.23172  127.89496  101.243225 110.73123   97.896164\n",
      " 106.43551  124.52461  108.81148  119.211815 113.19368   74.29433\n",
      " 121.63076  140.24008  124.68772  108.51068  109.73837  104.542656\n",
      " 111.83563  102.150604 119.3809   122.17023  112.373566 113.37137\n",
      " 118.82995  115.59979  122.63084  104.519615  82.118095 114.10348\n",
      " 116.451866 103.22777  115.99369  116.560585 119.66124  110.96065\n",
      " 111.21297  127.58522  128.6648   113.932365  85.762566 112.033394\n",
      "  80.89454  116.66466  103.426    129.9788   104.402054 101.11888\n",
      "  85.10126  107.71354  116.76297  100.45482  139.55394  106.17704\n",
      " 124.23931   96.94746   99.37204  134.34943 ]\n"
     ]
    }
   ],
   "source": [
    "print(x_)"
   ]
  },
  {
   "cell_type": "code",
   "execution_count": 24,
   "id": "33410f0f-20d4-408b-9396-2a69a8a75f06",
   "metadata": {},
   "outputs": [
    {
     "name": "stdout",
     "output_type": "stream",
     "text": [
      "tensor([[1.6594, 1.6851, 1.5739, 1.5922, 1.6475, 1.9456, 1.5760, 1.5572, 1.7283,\n",
      "         1.3682, 1.4964, 1.3229, 1.4383, 1.6828, 1.4704, 1.6110, 1.5296, 1.0040,\n",
      "         1.6437, 1.8951, 1.6850, 1.4664, 1.4830, 1.4127, 1.5113, 1.3804, 1.6133,\n",
      "         1.6509, 1.5186, 1.5320, 1.6058, 1.5622, 1.6572, 1.4124, 1.1097, 1.5419,\n",
      "         1.5737, 1.3950, 1.5675, 1.5751, 1.6170, 1.4995, 1.5029, 1.7241, 1.7387,\n",
      "         1.5396, 1.1590, 1.5140, 1.0932, 1.5765, 1.3976, 1.7565, 1.4108, 1.3665,\n",
      "         1.1500, 1.4556, 1.5779, 1.3575, 1.8859, 1.4348, 1.6789, 1.3101, 1.3429,\n",
      "         1.8155]])\n"
     ]
    }
   ],
   "source": [
    "print(ground_truth_feature_matrix)"
   ]
  },
  {
   "cell_type": "code",
   "execution_count": null,
   "id": "53d62ceb-bef5-4aa9-8cb8-fb1d1080933f",
   "metadata": {},
   "outputs": [],
   "source": []
  }
 ],
 "metadata": {
  "kernelspec": {
   "display_name": "Python 3 (ipykernel)",
   "language": "python",
   "name": "python3"
  },
  "language_info": {
   "codemirror_mode": {
    "name": "ipython",
    "version": 3
   },
   "file_extension": ".py",
   "mimetype": "text/x-python",
   "name": "python",
   "nbconvert_exporter": "python",
   "pygments_lexer": "ipython3",
   "version": "3.9.18"
  }
 },
 "nbformat": 4,
 "nbformat_minor": 5
}
